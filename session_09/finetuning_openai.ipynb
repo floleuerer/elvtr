{
 "cells": [
  {
   "cell_type": "code",
   "execution_count": null,
   "metadata": {},
   "outputs": [],
   "source": [
    "!pip install openai plotly nbformat"
   ]
  },
  {
   "cell_type": "code",
   "execution_count": null,
   "metadata": {},
   "outputs": [],
   "source": [
    "# OPENAI KEY lesen\n",
    "import os\n",
    "try:\n",
    "    from google.colab import userdata\n",
    "    OPENAI_KEY = userdata.get('OPENAI_KEY')\n",
    "except:\n",
    "    OPENAI_KEY = os.getenv('OPENAI_KEY')\n",
    "os.environ['OPENAI_API_KEY'] = OPENAI_KEY\n"
   ]
  },
  {
   "cell_type": "markdown",
   "metadata": {},
   "source": [
    "# Fine-Tune OpenAI Models\n",
    "\n",
    "Pricing: https://openai.com/pricing  \n",
    "OpenAI-Docs: https://platform.openai.com/docs/guides/fine-tuning  \n",
    "OpenAI-Cookbook: https://cookbook.openai.com/examples/chat_finetuning_data_prep\n"
   ]
  },
  {
   "cell_type": "code",
   "execution_count": null,
   "metadata": {},
   "outputs": [],
   "source": [
    "from pathlib import Path\n",
    "from openai import OpenAI"
   ]
  },
  {
   "cell_type": "code",
   "execution_count": null,
   "metadata": {},
   "outputs": [],
   "source": [
    "client = OpenAI()"
   ]
  },
  {
   "cell_type": "markdown",
   "metadata": {},
   "source": [
    "## Trainingsdaten vorbereiten und hochladen\n",
    "\n",
    "Beispiel von: https://learn.microsoft.com/en-us/azure/ai-services/openai/tutorials/fine-tune"
   ]
  },
  {
   "cell_type": "code",
   "execution_count": null,
   "metadata": {},
   "outputs": [],
   "source": [
    "!wget https://raw.githubusercontent.com/floleuerer/elvtr/main/session_09/train.jsonl\n",
    "!wget https://raw.githubusercontent.com/floleuerer/elvtr/main/session_09/valid.jsonl"
   ]
  },
  {
   "cell_type": "code",
   "execution_count": null,
   "metadata": {},
   "outputs": [],
   "source": [
    "train_file = client.files.create(\n",
    "  file=open(\"train.jsonl\", \"rb\"),\n",
    "  purpose=\"fine-tune\"\n",
    ")\n",
    "\n",
    "valid_file = client.files.create(\n",
    "  file=open(\"valid.jsonl\", \"rb\"),\n",
    "  purpose=\"fine-tune\"\n",
    ")"
   ]
  },
  {
   "cell_type": "markdown",
   "metadata": {},
   "source": [
    "## Create Training-Job"
   ]
  },
  {
   "cell_type": "code",
   "execution_count": null,
   "metadata": {},
   "outputs": [],
   "source": [
    "job = client.fine_tuning.jobs.create(\n",
    "  training_file=train_file.id,\n",
    "  validation_file=valid_file.id,\n",
    "  hyperparameters={'n_epochs': 1},\n",
    "  model=\"gpt-3.5-turbo\"\n",
    ")"
   ]
  },
  {
   "cell_type": "markdown",
   "metadata": {},
   "source": [
    "### Job-Status überprüfen"
   ]
  },
  {
   "cell_type": "code",
   "execution_count": null,
   "metadata": {},
   "outputs": [],
   "source": [
    "job_status = client.fine_tuning.jobs.retrieve(job.id)\n",
    "job_status"
   ]
  },
  {
   "cell_type": "code",
   "execution_count": null,
   "metadata": {},
   "outputs": [],
   "source": [
    "# List 10 fine-tuning jobs\n",
    "jobs = client.fine_tuning.jobs.list(limit=10)\n",
    "jobs"
   ]
  },
  {
   "cell_type": "markdown",
   "metadata": {},
   "source": [
    "### Trainingsmetriken speichern"
   ]
  },
  {
   "cell_type": "code",
   "execution_count": null,
   "metadata": {},
   "outputs": [],
   "source": [
    "result_file = job_status.result_files[0]\n",
    "result_content = client.files.content(result_file)\n",
    "Path('result.csv').write_text(result_content.text)"
   ]
  },
  {
   "cell_type": "markdown",
   "metadata": {},
   "source": [
    "### Metriken plotten"
   ]
  },
  {
   "cell_type": "code",
   "execution_count": null,
   "metadata": {},
   "outputs": [],
   "source": [
    "import plotly.graph_objects as go\n",
    "import pandas as pd"
   ]
  },
  {
   "cell_type": "code",
   "execution_count": null,
   "metadata": {},
   "outputs": [],
   "source": [
    "# Load the data from a CSV file\n",
    "data = pd.read_csv('result.csv')"
   ]
  },
  {
   "cell_type": "code",
   "execution_count": null,
   "metadata": {},
   "outputs": [],
   "source": [
    "\n",
    "# Create traces for the training and validation losses\n",
    "trace_train_loss = go.Scatter(\n",
    "    x=data['step'],\n",
    "    y=data['train_loss'],\n",
    "    mode='lines+markers',\n",
    "    name='Train Loss'\n",
    ")\n",
    "!\n",
    "trace_valid_loss = go.Scatter(\n",
    "    x=data['step'],\n",
    "    y=data['valid_loss'],\n",
    "    mode='lines+markers',\n",
    "    name='Validation Loss'\n",
    ")\n",
    "\n",
    "\n",
    "# Create the figure and set up the secondary y-axis\n",
    "fig = go.Figure()\n",
    "\n",
    "# Add traces to the figure\n",
    "fig.add_trace(trace_train_loss)\n",
    "fig.add_trace(trace_valid_loss)\n",
    "\n",
    "# Set up the layout, including secondary y-axis for the accuracies\n",
    "fig.update_layout(\n",
    "    title='Training and Validation Loss/Accuracy over Time',\n",
    "    xaxis_title='Step',\n",
    "    yaxis_title='Loss',\n",
    "    #legend=dict(x=0.1, y=1.1, orientation='h')\n",
    ")\n",
    "\n",
    "# Show the figure in the Jupyter notebook\n",
    "fig.show()"
   ]
  },
  {
   "cell_type": "code",
   "execution_count": null,
   "metadata": {},
   "outputs": [],
   "source": [
    "\n",
    "# Create traces for the training and validation accuracies\n",
    "trace_train_accuracy = go.Scatter(\n",
    "    x=data['step'],\n",
    "    y=data['train_accuracy'],\n",
    "    mode='lines+markers',\n",
    "    name='Train Accuracy',\n",
    "    yaxis='y2'\n",
    ")\n",
    "\n",
    "trace_valid_accuracy = go.Scatter(\n",
    "    x=data['step'],\n",
    "    y=data['valid_mean_token_accuracy'],\n",
    "    mode='lines+markers',\n",
    "    name='Validation Accuracy',\n",
    "    yaxis='y2'\n",
    ")\n",
    "\n",
    "fig = go.Figure()\n",
    "\n",
    "# Add traces to the figure\n",
    "fig.add_trace(trace_train_accuracy)\n",
    "fig.add_trace(trace_valid_accuracy)"
   ]
  },
  {
   "cell_type": "markdown",
   "metadata": {},
   "source": [
    "## Trainiertes Modell verwenden"
   ]
  },
  {
   "cell_type": "code",
   "execution_count": null,
   "metadata": {},
   "outputs": [],
   "source": [
    "completion = client.chat.completions.create(\n",
    "  model=job_status.fine_tuned_model,\n",
    "  messages=[\n",
    "    {\"role\": \"system\", \"content\": \"Clippy is a factual chatbot that is also sarcastic.\"},\n",
    "    {\"role\": \"user\", \"content\": \"Do you know a apple pie recipe?\"}\n",
    "  ]\n",
    ")\n",
    "print(completion.choices[0].message.content)"
   ]
  },
  {
   "cell_type": "markdown",
   "metadata": {},
   "source": [
    "#### gpt-35-turbo"
   ]
  },
  {
   "cell_type": "code",
   "execution_count": null,
   "metadata": {},
   "outputs": [],
   "source": [
    "completion = client.chat.completions.create(\n",
    "  model=\"gpt-3.5-turbo\",\n",
    "  messages=[\n",
    "    {\"role\": \"system\", \"content\": \"Clippy is a factual chatbot that is also sarcastic.\"},\n",
    "    {\"role\": \"user\", \"content\": \"Do you know a apple pie recipe?\"}\n",
    "  ]\n",
    ")\n",
    "print(completion.choices[0].message.content)"
   ]
  }
 ],
 "metadata": {
  "kernelspec": {
   "display_name": "agi",
   "language": "python",
   "name": "python3"
  },
  "language_info": {
   "codemirror_mode": {
    "name": "ipython",
    "version": 3
   },
   "file_extension": ".py",
   "mimetype": "text/x-python",
   "name": "python",
   "nbconvert_exporter": "python",
   "pygments_lexer": "ipython3",
   "version": "3.10.9"
  }
 },
 "nbformat": 4,
 "nbformat_minor": 2
}
