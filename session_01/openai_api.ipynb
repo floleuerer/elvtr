{
 "cells": [
  {
   "cell_type": "markdown",
   "metadata": {},
   "source": [
    "# Wie funktioniert die OpenAI API?"
   ]
  },
  {
   "cell_type": "markdown",
   "metadata": {},
   "source": [
    "## Vorbereitungen"
   ]
  },
  {
   "cell_type": "markdown",
   "metadata": {},
   "source": [
    "Wir müssen die benötigten Python-Pakete installieren"
   ]
  },
  {
   "cell_type": "code",
   "execution_count": null,
   "metadata": {},
   "outputs": [],
   "source": [
    "!pip install openai"
   ]
  },
  {
   "cell_type": "markdown",
   "metadata": {},
   "source": [
    "### OpenAI API Key erstellen \n",
    "\n",
    "https://platform.openai.com/api-keys\n",
    "\n",
    "Mit \"Create new secret key\" kannst du einen neuen API-Key anlegen. WICHTIG! Halte diesen geheim. Jeder der deinen API Key hat, kann auf deine Kosten die OpenAI API verwenden.\n",
    "\n",
    "![openai_key.png](images/openai_key.png)\n",
    "\n",
    "### In Colab eintragen\n",
    "\n",
    "Auf der linken Seite in Colab das \"Burger-Menü\" öffnen -> \"Secrets\" (Schlüsselsymbol) öffnen\n",
    "\n",
    "Hier einen Eintrag mit den Namen \"OPENAI_KEY\" anlegen und den im ersten Schritt erstellten API-Key eintragen.\n",
    "\n",
    "![colab_Secrets.png](images/colab_secrets.png)\n",
    "\n",
    "### Jetzt weiter im Notebook!"
   ]
  },
  {
   "cell_type": "code",
   "execution_count": null,
   "metadata": {},
   "outputs": [],
   "source": [
    "# OPENAI KEY lesen\n",
    "import os\n",
    "try:\n",
    "    from google.colab import userdata\n",
    "    OPENAI_KEY = userdata.get('OPENAI_KEY')\n",
    "except:\n",
    "    OPENAI_KEY = os.getenv('OPENAI_KEY')\n",
    "os.environ['OPENAI_API_KEY'] = OPENAI_KEY\n"
   ]
  },
  {
   "cell_type": "markdown",
   "metadata": {},
   "source": [
    "# OpenAI API aufrufen!\n",
    "\n",
    "Dazu erstellen wir uns im ersten Schritt einen OpenAI API Client."
   ]
  },
  {
   "cell_type": "code",
   "execution_count": null,
   "metadata": {},
   "outputs": [],
   "source": [
    "from openai import OpenAI\n",
    "client = OpenAI()"
   ]
  },
  {
   "cell_type": "markdown",
   "metadata": {},
   "source": [
    "## Texte generieren\n",
    "\n",
    "siehe auch den OpenAI Quickstart: https://platform.openai.com/docs/quickstart"
   ]
  },
  {
   "cell_type": "code",
   "execution_count": null,
   "metadata": {},
   "outputs": [],
   "source": [
    "completion = client.chat.completions.create(\n",
    "  model=\"gpt-3.5-turbo\",\n",
    "  messages=[\n",
    "    {\"role\": \"system\", \"content\": \"Du bist ein poetischer Assistent, der komplexe Generative AI-Konzepte mit kreativem Gespür erklären kann.\"},\n",
    "    {\"role\": \"user\", \"content\": \"Verfasse ein Gedicht, das das Konzept des Trainings großer Sprachmodelle erklärt\"}\n",
    "  ]\n",
    ")\n",
    "\n",
    "print(completion.choices[0].message.content)"
   ]
  },
  {
   "cell_type": "markdown",
   "metadata": {},
   "source": [
    "## Bilder mit Dalle-3 generieren\n",
    "\n",
    "siehe https://platform.openai.com/docs/guides/images/generations"
   ]
  },
  {
   "cell_type": "code",
   "execution_count": null,
   "metadata": {},
   "outputs": [],
   "source": [
    "from IPython.display import Image"
   ]
  },
  {
   "cell_type": "markdown",
   "metadata": {},
   "source": [
    "Mit dem folgenden Aufruf können wir ein bild mit Dalle-3 erstellen. Du willst ein anderes Bild? Einfach den Prompt verändern!"
   ]
  },
  {
   "cell_type": "code",
   "execution_count": null,
   "metadata": {},
   "outputs": [],
   "source": [
    "response = client.images.generate(\n",
    "  model=\"dall-e-3\",\n",
    "  prompt=\"a white siamese cat\",\n",
    "  size=\"1024x1024\",\n",
    "  quality=\"standard\",\n",
    "  n=1\n",
    ")"
   ]
  },
  {
   "cell_type": "code",
   "execution_count": null,
   "metadata": {},
   "outputs": [],
   "source": [
    "image_url = response.data[0].url\n",
    "Image(url=image_url)\n"
   ]
  },
  {
   "cell_type": "code",
   "execution_count": null,
   "metadata": {},
   "outputs": [],
   "source": []
  }
 ],
 "metadata": {
  "kernelspec": {
   "display_name": "d4t",
   "language": "python",
   "name": "python3"
  },
  "language_info": {
   "codemirror_mode": {
    "name": "ipython",
    "version": 3
   },
   "file_extension": ".py",
   "mimetype": "text/x-python",
   "name": "python",
   "nbconvert_exporter": "python",
   "pygments_lexer": "ipython3",
   "version": "3.10.9"
  }
 },
 "nbformat": 4,
 "nbformat_minor": 2
}
