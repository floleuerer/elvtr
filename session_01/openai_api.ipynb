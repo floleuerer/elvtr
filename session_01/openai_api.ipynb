{
 "cells": [
  {
   "cell_type": "markdown",
   "metadata": {},
   "source": [
    "# Wie funktioniert die OpenAI API?"
   ]
  },
  {
   "cell_type": "markdown",
   "metadata": {},
   "source": [
    "## Vorbereitungen"
   ]
  },
  {
   "cell_type": "markdown",
   "metadata": {},
   "source": [
    "Wir müssen die benötigten Python-Pakete installieren"
   ]
  },
  {
   "cell_type": "code",
   "execution_count": null,
   "metadata": {},
   "outputs": [],
   "source": [
    "!pip install openai"
   ]
  },
  {
   "cell_type": "markdown",
   "metadata": {},
   "source": [
    "### OpenAI API Key erstellen \n",
    "\n",
    "https://platform.openai.com/api-keys\n",
    "\n",
    "Mit \"Create new secret key\" kannst du einen neuen API-Key anlegen. WICHTIG! Halte diesen geheim. Jeder der deinen API Key hat, kann auf deine Kosten die OpenAI API verwenden.\n",
    "\n",
    "![openai_key.png](images/openai_key.png)\n",
    "\n",
    "### In Colab eintragen\n",
    "\n",
    "Auf der linken Seite in Colab das \"Burger-Menü\" öffnen -> \"Secrets\" (Schlüsselsymbol) öffnen\n",
    "\n",
    "Hier einen Eintrag mit den Namen \"OPENAI_KEY\" anlegen und den im ersten Schritt erstellten API-Key eintragen.\n",
    "\n",
    "![colab_Secrets.png](images/colab_secrets.png)\n",
    "\n",
    "### Jetzt weiter im Notebook!"
   ]
  },
  {
   "cell_type": "code",
   "execution_count": 1,
   "metadata": {},
   "outputs": [],
   "source": [
    "# OPENAI KEY lesen\n",
    "import os\n",
    "try:\n",
    "    from google.colab import userdata\n",
    "    OPENAI_KEY = userdata.get('OPENAI_KEY')\n",
    "except:\n",
    "    OPENAI_KEY = os.getenv('OPENAI_KEY')\n",
    "os.environ['OPENAI_API_KEY'] = OPENAI_KEY\n"
   ]
  },
  {
   "cell_type": "markdown",
   "metadata": {},
   "source": [
    "# OpenAI API aufrufen!"
   ]
  },
  {
   "cell_type": "markdown",
   "metadata": {},
   "source": [
    "siehe auch den OpenAI Quickstart: https://platform.openai.com/docs/quickstart"
   ]
  },
  {
   "cell_type": "code",
   "execution_count": 2,
   "metadata": {},
   "outputs": [
    {
     "name": "stdout",
     "output_type": "stream",
     "text": [
      "In the realm of code, there lies a technique profound,\n",
      "Where functions call themselves, a carousel whirls around.\n",
      "Recursion is the name, a clever loop in disguise,\n",
      "Unraveling tasks with recursive highs.\n",
      "\n",
      "Like a fractal unfolding in infinite grace,\n",
      "Calling upon itself, in a mesmerizing chase.\n",
      "A function's magic, to itself it hands the key,\n",
      "Unraveling problems, with elegance and glee.\n",
      "\n",
      "From fibbonacci sequences to traversing trees,\n",
      "Recursion sings its song, dancing in the breeze.\n",
      "An elegant dance, a waltz of pure devotion,\n",
      "In the realm of programming, a recursive ocean.\n",
      "\n",
      "So heed the call of recursion's siren song,\n",
      "A magical tool, where mysteries belong.\n",
      "Infinite loops of wonder, as functions intertwine,\n",
      "Recursion in programming, a poetry divine.\n"
     ]
    }
   ],
   "source": [
    "from openai import OpenAI\n",
    "client = OpenAI()\n",
    "\n",
    "completion = client.chat.completions.create(\n",
    "  model=\"gpt-3.5-turbo\",\n",
    "  messages=[\n",
    "    {\"role\": \"system\", \"content\": \"You are a poetic assistant, skilled in explaining complex programming concepts with creative flair.\"},\n",
    "    {\"role\": \"user\", \"content\": \"Compose a poem that explains the concept of recursion in programming.\"}\n",
    "  ]\n",
    ")\n",
    "\n",
    "print(completion.choices[0].message.content)"
   ]
  },
  {
   "cell_type": "code",
   "execution_count": null,
   "metadata": {},
   "outputs": [],
   "source": []
  }
 ],
 "metadata": {
  "kernelspec": {
   "display_name": "d4t",
   "language": "python",
   "name": "python3"
  },
  "language_info": {
   "codemirror_mode": {
    "name": "ipython",
    "version": 3
   },
   "file_extension": ".py",
   "mimetype": "text/x-python",
   "name": "python",
   "nbconvert_exporter": "python",
   "pygments_lexer": "ipython3",
   "version": "3.10.9"
  }
 },
 "nbformat": 4,
 "nbformat_minor": 2
}
