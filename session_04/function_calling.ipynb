{
 "cells": [
  {
   "cell_type": "markdown",
   "metadata": {},
   "source": [
    "# Vorbereitungen"
   ]
  },
  {
   "cell_type": "code",
   "execution_count": null,
   "metadata": {},
   "outputs": [],
   "source": [
    "!pip install openai pydantic"
   ]
  },
  {
   "cell_type": "code",
   "execution_count": null,
   "metadata": {},
   "outputs": [],
   "source": [
    "# OPENAI KEY lesen\n",
    "import os\n",
    "try:\n",
    "    from google.colab import userdata\n",
    "    OPENAI_KEY = userdata.get('OPENAI_KEY')\n",
    "except:\n",
    "    OPENAI_KEY = os.getenv('OPENAI_KEY')\n",
    "os.environ['OPENAI_API_KEY'] = OPENAI_KEY\n"
   ]
  },
  {
   "cell_type": "markdown",
   "metadata": {},
   "source": [
    "# Function Calling\n",
    "\n",
    "https://platform.openai.com/docs/guides/function-calling/supported-models\n",
    "\n",
    "Not all model versions are trained with function calling data. Function calling is supported with the following models: `gpt-4`, `gpt-4-turbo-preview`, `gpt-4-0125-preview`, `gpt-4-1106-preview`, `gpt-4-0613`, `gpt-3.5-turbo`, `gpt-3.5-turbo-0125`, `gpt-3.5-turbo-1106`, and `gpt-3.5-turbo-0613`.\n",
    "\n",
    "In addition, parallel function calls is supported on the following models: `gpt-4-turbo-preview`, `gpt-4-0125-preview`, `gpt-4-1106-preview`, `gpt-3.5-turbo-0125`, and `gpt-3.5-turbo-1106`."
   ]
  },
  {
   "cell_type": "code",
   "execution_count": null,
   "metadata": {},
   "outputs": [],
   "source": [
    "from openai import OpenAI\n",
    "from pydantic import BaseModel, Field\n",
    "import json"
   ]
  },
  {
   "cell_type": "code",
   "execution_count": null,
   "metadata": {},
   "outputs": [],
   "source": [
    "client = OpenAI()"
   ]
  },
  {
   "cell_type": "markdown",
   "metadata": {},
   "source": [
    "Aus folgendem Text sollen alle vorkommenden Personen mit Vorname + Name extrahiert werden"
   ]
  },
  {
   "cell_type": "code",
   "execution_count": null,
   "metadata": {},
   "outputs": [],
   "source": [
    "#https://www.spiegel.de/sport/fussball-bundesliga-erst-fliegen-suessigkeiten-dann-besiegt-bayer-leverkusen-bayern-muenchen-a-16b38b4f-2ab7-4d78-8b15-e63e157e1fad#\n",
    "text = '''Leihspieler aus München trifft zur Bayer-Führung\n",
    "\n",
    "Als dann Fußball gespielt wurde, präsentierten sich die Hausherren gefährlicher: Nationalspieler Robert Andrich spielte von der linken Seite flach \n",
    "nach innen, dort gelang Josip Stanišić per Direktabnahme das 1:0 (18. Minute). Ausgerechnet Stanišić: Der Verteidiger war zu Beginn dieser Saison als \n",
    "Leihgabe von den Münchnern gekommen.\n",
    "\n",
    "Und es wurde noch besser für die Leverkusener: Kurz nach der Halbzeit gelang Bayer das zweite Tor der Partie. Alejandro Grimaldo traf nach einem \n",
    "Pass von Nathan Tella sehenswert aus spitzem Winkel an Bayern-Keeper Manuel Neuer vorbei ins Tor (50.).\n",
    "\n",
    "Die Münchner versuchten nun, den Druck zu erhöhen – blieben aber harmlos. Leverkusen verteidigte konsequent und traf sogar noch je einmal die Latte \n",
    "(von der Eckfahne) und den Pfosten. Jeremie Frimpong sorgte mit einem Schuss ins leere Tor in der Nachspielzeit für den Schlusspunkt. Neuer war bei \n",
    "einer Bayern-Ecke in den gegnerischen Strafraum gelaufen.'''"
   ]
  },
  {
   "cell_type": "markdown",
   "metadata": {},
   "source": [
    "Mit `pydantic` können wir das Datenschema definieren welches für die Extraktion verwendet wrid.\n",
    "\n",
    "https://docs.pydantic.dev/1.10/usage/schema/#__tabbed_2_2"
   ]
  },
  {
   "cell_type": "markdown",
   "metadata": {},
   "source": [
    "## Personen extrahieren"
   ]
  },
  {
   "cell_type": "code",
   "execution_count": null,
   "metadata": {},
   "outputs": [],
   "source": [
    "class Person(BaseModel):\n",
    "    vorname: str\n",
    "    nachname: str\n",
    "\n",
    "class PersonenListe(BaseModel):\n",
    "    personen: list[Person]"
   ]
  },
  {
   "cell_type": "markdown",
   "metadata": {},
   "source": [
    "Die Funktionsdefinition hat die folgenden Felder:   \n",
    "   \n",
    "`name`: Name der Funktion   \n",
    "`description`: Beschreibung der Funktion - diese ist wichtig, damit das Modell versteht, welche Fähigkeiten die Funktion hat und wann sie aufgerufen werden soll.   \n",
    "`parameters`: Pydantic Schema   "
   ]
  },
  {
   "cell_type": "code",
   "execution_count": null,
   "metadata": {},
   "outputs": [],
   "source": [
    "extract_people_function = {\n",
    "        \"type\": \"function\",\n",
    "        \"function\": {\n",
    "                \"name\": \"extract_people_list\",\n",
    "                \"description\": \"Extract alle Personen die im Text genannt werden\",\n",
    "                \"parameters\": PersonenListe.model_json_schema()\n",
    "        }\n",
    "}"
   ]
  },
  {
   "cell_type": "code",
   "execution_count": null,
   "metadata": {},
   "outputs": [],
   "source": [
    "PersonenListe.model_json_schema()"
   ]
  },
  {
   "cell_type": "markdown",
   "metadata": {},
   "source": [
    "Die Funtkion(en) müssen dem API-Call mit dem `tools` Parameter übergeben werden."
   ]
  },
  {
   "cell_type": "code",
   "execution_count": null,
   "metadata": {},
   "outputs": [],
   "source": [
    "completion = client.chat.completions.create(\n",
    "  model=\"gpt-3.5-turbo-0125\",\n",
    "  tools=[extract_people_function],\n",
    "  tool_choice=\"auto\",\n",
    "  messages=[\n",
    "    {\"role\": \"system\", \"content\": \"Extrahiere alle Personen die im Text genannt werden\"},\n",
    "    {\"role\": \"user\", \"content\": text}\n",
    "  ]\n",
    ")"
   ]
  },
  {
   "cell_type": "code",
   "execution_count": null,
   "metadata": {},
   "outputs": [],
   "source": [
    "data = completion.choices[0].message.tool_calls[0].function.arguments\n",
    "json.loads(data)"
   ]
  },
  {
   "cell_type": "markdown",
   "metadata": {},
   "source": [
    "## Vereine extrahieren"
   ]
  },
  {
   "cell_type": "code",
   "execution_count": null,
   "metadata": {},
   "outputs": [],
   "source": [
    "class FussballMannschaft(BaseModel):\n",
    "    mannschafts_name: str\n",
    "\n",
    "class FussballMannschaftListe(BaseModel):\n",
    "    mannschaften: list[FussballMannschaft]"
   ]
  },
  {
   "cell_type": "code",
   "execution_count": null,
   "metadata": {},
   "outputs": [],
   "source": [
    "extract_clubs_function = {\n",
    "        \"type\": \"function\",\n",
    "        \"function\": {\n",
    "                \"name\": \"extract_club_list\",\n",
    "                \"description\": \"Extrahiere alle Fussballmannschaften die im Text genannt werden\",\n",
    "                \"parameters\": FussballMannschaftListe.model_json_schema()\n",
    "        }\n",
    "}"
   ]
  },
  {
   "cell_type": "code",
   "execution_count": null,
   "metadata": {},
   "outputs": [],
   "source": [
    "completion = client.chat.completions.create(\n",
    "  model=\"gpt-3.5-turbo-0125\",\n",
    "  tools=[extract_clubs_function],\n",
    "  tool_choice=\"auto\",\n",
    "  messages=[\n",
    "    {\"role\": \"system\", \"content\": \"Extrahiere alle Fussballmannschaften die im Text genannt werden.\"},\n",
    "    {\"role\": \"user\", \"content\": text}\n",
    "  ]\n",
    ")"
   ]
  },
  {
   "cell_type": "code",
   "execution_count": null,
   "metadata": {},
   "outputs": [],
   "source": [
    "data = completion.choices[0].message.tool_calls[0].function.arguments\n",
    "json.loads(data)"
   ]
  },
  {
   "cell_type": "markdown",
   "metadata": {},
   "source": [
    "## Personen + Vereine gleichzeitig extrahieren"
   ]
  },
  {
   "cell_type": "code",
   "execution_count": null,
   "metadata": {},
   "outputs": [],
   "source": [
    "completion = client.chat.completions.create(\n",
    "  model=\"gpt-4-0125-preview\",\n",
    "  tools=[extract_people_function, extract_clubs_function],\n",
    "  tool_choice=\"auto\",\n",
    "  messages=[\n",
    "    {\"role\": \"system\", \"content\": \"Extrahiere alle Personen und Fussballmannschaften die im Text genannt werden\"},\n",
    "    {\"role\": \"user\", \"content\": text}\n",
    "  ]\n",
    ")"
   ]
  },
  {
   "cell_type": "code",
   "execution_count": null,
   "metadata": {},
   "outputs": [],
   "source": [
    "data = completion.choices[0].message.tool_calls[0].function.arguments\n",
    "json.loads(data)"
   ]
  },
  {
   "cell_type": "code",
   "execution_count": null,
   "metadata": {},
   "outputs": [],
   "source": [
    "data = completion.choices[0].message.tool_calls[1].function.arguments\n",
    "json.loads(data)"
   ]
  },
  {
   "cell_type": "code",
   "execution_count": null,
   "metadata": {},
   "outputs": [],
   "source": []
  },
  {
   "cell_type": "code",
   "execution_count": null,
   "metadata": {},
   "outputs": [],
   "source": []
  },
  {
   "cell_type": "code",
   "execution_count": null,
   "metadata": {},
   "outputs": [],
   "source": []
  }
 ],
 "metadata": {
  "kernelspec": {
   "display_name": "agi",
   "language": "python",
   "name": "python3"
  },
  "language_info": {
   "codemirror_mode": {
    "name": "ipython",
    "version": 3
   },
   "file_extension": ".py",
   "mimetype": "text/x-python",
   "name": "python",
   "nbconvert_exporter": "python",
   "pygments_lexer": "ipython3",
   "version": "3.10.9"
  }
 },
 "nbformat": 4,
 "nbformat_minor": 2
}
