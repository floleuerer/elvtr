{
 "cells": [
  {
   "cell_type": "code",
   "execution_count": null,
   "metadata": {},
   "outputs": [],
   "source": [
    "!pip install -U transformers accelerate ipywidgets"
   ]
  },
  {
   "cell_type": "markdown",
   "metadata": {},
   "source": [
    "# Colab Einstellungen ändern\n",
    "\n",
    "Wir benötigen für diese Übung eine GPU\n",
    "\n",
    "im Menü -> Laufzeit -> Laufzeittyp ändern -> T4 GPU -> Speichern\n",
    "\n",
    "![image](images/colab-gpu-1.png)\n",
    "\n",
    "![image](images/colab-gpu-2.png)"
   ]
  },
  {
   "cell_type": "markdown",
   "metadata": {},
   "source": [
    "# OpenSource LLMs vom Huggingface-Hub verwenden\n",
    "\n",
    "https://huggingface.co/models?pipeline_tag=text-generation&sort=trending"
   ]
  },
  {
   "cell_type": "code",
   "execution_count": null,
   "metadata": {},
   "outputs": [],
   "source": [
    "from transformers import pipeline"
   ]
  },
  {
   "cell_type": "code",
   "execution_count": null,
   "metadata": {},
   "outputs": [],
   "source": [
    "model_name = 'mistralai/Mistral-7B-Instruct-v0.2'"
   ]
  },
  {
   "cell_type": "markdown",
   "metadata": {},
   "source": [
    "## Pipelines\n",
    "\n",
    "Die transformers pipelines sind die einfachste Möglichkeit Modelle zu verwenden. Kurz gesagt stellen die Pipelines sicher, dass das Preprocessing (Tokenizen, Chat Template, etc ...) richtig angewendet wird."
   ]
  },
  {
   "cell_type": "code",
   "execution_count": null,
   "metadata": {},
   "outputs": [],
   "source": [
    "pipe = pipeline(\n",
    "    \"conversational\",\n",
    "    model=model_name,\n",
    "    torch_dtype=\"auto\",\n",
    "    device_map=\"auto\",\n",
    "    max_new_tokens=512,\n",
    ")"
   ]
  },
  {
   "cell_type": "code",
   "execution_count": null,
   "metadata": {},
   "outputs": [],
   "source": [
    "messages = [{'role': 'user', 'content': 'Kennst du ein Donauwellenrezept?'}]"
   ]
  },
  {
   "cell_type": "code",
   "execution_count": null,
   "metadata": {},
   "outputs": [],
   "source": [
    "pipe(messages)"
   ]
  },
  {
   "cell_type": "markdown",
   "metadata": {},
   "source": [
    "## Huggingface AutoModel-Klassen\n",
    "\n",
    "Etwas \"aufwändiger\" ist die Verwendung der AutoModel/AutoTokenizer Klassen. Wir müssen sicherstellen, dass wir:\n",
    "- Modell und Tokenizer laden\n",
    "- die Messages tokenizen\n",
    "- das Chat-Template verwenden\n",
    "- alle Daten auf dem richtigen und gleichen \"Device\" (CPU oder GPU) sind\n",
    "- den erzeugten Text (Tokens) decoden - also die Tokens in Text umwandeln"
   ]
  },
  {
   "cell_type": "code",
   "execution_count": null,
   "metadata": {},
   "outputs": [],
   "source": [
    "from transformers import AutoModelForCausalLM, AutoTokenizer"
   ]
  },
  {
   "cell_type": "code",
   "execution_count": null,
   "metadata": {},
   "outputs": [],
   "source": [
    "model_name = 'mistralai/Mistral-7B-Instruct-v0.2'"
   ]
  },
  {
   "cell_type": "code",
   "execution_count": null,
   "metadata": {},
   "outputs": [],
   "source": [
    "# Modell und Tokenizer erstellen\n",
    "model = AutoModelForCausalLM.from_pretrained(model_name, torch_dtype='auto')\n",
    "tokenizer = AutoTokenizer.from_pretrained(model_name)"
   ]
  },
  {
   "cell_type": "code",
   "execution_count": null,
   "metadata": {},
   "outputs": [],
   "source": [
    "# Nachrichten tokenizen, und zusammen mit dem Modell auf das gleiche \"device\" legen\n",
    "messages = [{'role': 'user', 'content': 'Kennst du ein Donauwellenrezept?'}]\n",
    "\n",
    "encodeds = tokenizer.apply_chat_template(messages, return_tensors=\"pt\")\n",
    "\n",
    "device = 'cuda:0'\n",
    "model_inputs = encodeds.to(device)\n",
    "model.to(device)"
   ]
  },
  {
   "cell_type": "code",
   "execution_count": null,
   "metadata": {},
   "outputs": [],
   "source": [
    "# Erzeugen der eigentlichen Ausgabe\n",
    "generated_ids = model.generate(model_inputs, max_new_tokens=1000, do_sample=True)"
   ]
  },
  {
   "cell_type": "code",
   "execution_count": null,
   "metadata": {},
   "outputs": [],
   "source": [
    "# Ausgabe von Tokens -> Text umwandeln und ausgeben\n",
    "decoded = tokenizer.batch_decode(generated_ids)\n",
    "print(decoded[0])"
   ]
  }
 ],
 "metadata": {
  "kernelspec": {
   "display_name": "agi",
   "language": "python",
   "name": "python3"
  },
  "language_info": {
   "codemirror_mode": {
    "name": "ipython",
    "version": 3
   },
   "file_extension": ".py",
   "mimetype": "text/x-python",
   "name": "python",
   "nbconvert_exporter": "python",
   "pygments_lexer": "ipython3",
   "version": "3.10.9"
  }
 },
 "nbformat": 4,
 "nbformat_minor": 2
}
