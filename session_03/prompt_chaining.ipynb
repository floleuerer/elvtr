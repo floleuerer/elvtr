{
 "cells": [
  {
   "cell_type": "markdown",
   "metadata": {},
   "source": [
    "# Prompt Chaining"
   ]
  },
  {
   "cell_type": "code",
   "execution_count": null,
   "metadata": {},
   "outputs": [],
   "source": [
    "!pip install openai"
   ]
  },
  {
   "cell_type": "code",
   "execution_count": null,
   "metadata": {},
   "outputs": [],
   "source": [
    "# OPENAI KEY lesen\n",
    "import os\n",
    "try:\n",
    "    from google.colab import userdata\n",
    "    OPENAI_KEY = userdata.get('OPENAI_KEY')\n",
    "except:\n",
    "    OPENAI_KEY = os.getenv('OPENAI_KEY')\n",
    "os.environ['OPENAI_API_KEY'] = OPENAI_KEY\n"
   ]
  },
  {
   "cell_type": "markdown",
   "metadata": {},
   "source": [
    "## OpenAI API + Helper \"gnerate_response\""
   ]
  },
  {
   "cell_type": "code",
   "execution_count": null,
   "metadata": {},
   "outputs": [],
   "source": [
    "from openai import OpenAI\n",
    "client = OpenAI()"
   ]
  },
  {
   "cell_type": "code",
   "execution_count": null,
   "metadata": {},
   "outputs": [],
   "source": [
    "def generate_response(messages):\n",
    "    completion = client.chat.completions.create(\n",
    "    model=\"gpt-3.5-turbo\",\n",
    "    messages=messages\n",
    "    )\n",
    "\n",
    "    return completion.choices[0].message.content"
   ]
  },
  {
   "cell_type": "markdown",
   "metadata": {},
   "source": [
    "## Beispiel Prompt-Chain: Marketing-Kampagne\n",
    "\n",
    "Wie wir aus Session 1 wissen, haben die Prompts, die wir an die OpenAI API schicken die folgende Form:\n",
    "- System Prompt\n",
    "- User Prompt\n",
    "- Assistant \"Response\"\n",
    "- User Prompt \n",
    "- usw ..\n",
    "\n",
    "Genau das \"bauen\" wir uns jetzt in Python iterativ zusammen - und nutzen die OpenAI API um uns jeweils die Vorschläge und Ideen generieren zu lassen.\n",
    "\n",
    "Wir möchten eine Marketingkampagne für eine bestimmte Zielgruppe mit einer Marketingbotschaft erstellen."
   ]
  },
  {
   "cell_type": "markdown",
   "metadata": {},
   "source": [
    "### Schritt 1: Marketingkonzept"
   ]
  },
  {
   "cell_type": "code",
   "execution_count": null,
   "metadata": {},
   "outputs": [],
   "source": [
    "produkt = \"Waschmittel\"\n",
    "\n",
    "system_prompt = {\"role\": \"system\", \n",
    "                 \"content\": f\"Du bist Marketingspezialist. Ich benötige kreative Ideen für eine Marketingkampagne für ein neues nachhaltiges {produkt}.\"}"
   ]
  },
  {
   "cell_type": "code",
   "execution_count": null,
   "metadata": {},
   "outputs": [],
   "source": [
    "prompt_1 = {\"role\": \"user\", \n",
    "            \"content\": \"Welche 5 einzigartigen Konzepte könnten wir nutzen? Gebe eine Markdown Liste aus!\"}"
   ]
  },
  {
   "cell_type": "code",
   "execution_count": null,
   "metadata": {},
   "outputs": [],
   "source": [
    "response_1 = generate_response([system_prompt, prompt_1])\n",
    "print(response_1)"
   ]
  },
  {
   "cell_type": "markdown",
   "metadata": {},
   "source": [
    "Ergebnis aus Prompt 1:\n",
    "- **Verpackung aus recycelten Materialien**: Nutzen Sie als Alleinstellungsmerkmal eine Verpackung, die zu 100% aus recycelten Materialien hergestellt ist. Dies unterstreicht die Nachhaltigkeit Ihres Produkts und spricht umweltbewusste Verbraucher an.\n",
    "\n",
    "- **Kooperation mit NGOs**: Knüpfen Sie Partnerschaften mit Umweltschutzorganisationen oder sozialen Projekten, um zu zeigen, dass Ihr Unternehmen gesellschaftliche Verantwortung übernimmt. Gemeinsame Aktionen und Spendenaktionen können die Glaubwürdigkeit und Bekanntheit Ihres nachhaltigen Waschmittels steigern.\n",
    "\n",
    "- **Online-Challenge für Nachhaltigkeit**: Starten Sie eine Online-Challenge, bei der Verbraucher ihre eigenen Tipps und Tricks zum Thema Nachhaltigkeit im Haushalt teilen können. Verknüpfen Sie die Challenge mit Ihrem nachhaltigen Waschmittel und schaffen Sie so eine Community von umweltbewussten Verbrauchern.\n",
    "\n",
    "- **Limited Edition in Zusammenarbeit mit einem/einer bekannten Designer/in**: Entwerfen Sie eine Limited Edition des Waschmittels in Zusammenarbeit mit einem/einer bekannten Designer/in, der/die für Nachhaltigkeit und Umweltschutz steht. Diese exklusive Edition wird nicht nur Sammler ansprechen, sondern auch die Reichweite Ihrer Marke erhöhen.\n",
    "\n",
    "- **Recyclingprogramm für leere Verpackungen**: Führen Sie ein Recyclingprogramm ein, bei dem Verbraucher leere Verpackungen Ihres Waschmittels an Sie zurückschicken können. Als Dank erhalten sie einen Rabatt auf ihren nächsten Einkauf oder können an einer Verlosung teilnehmen. Dadurch fördern Sie nicht nur das Recycling, sondern binden auch Kunden langfristig an Ihre Marke."
   ]
  },
  {
   "cell_type": "markdown",
   "metadata": {},
   "source": [
    "### Schritt 2: Zielgruppe"
   ]
  },
  {
   "cell_type": "code",
   "execution_count": null,
   "metadata": {},
   "outputs": [],
   "source": [
    "response_prompt_1 = {\"role\": \"assistant\", \n",
    "                     \"content\": response_1}\n",
    "\n",
    "# Wir möchte mit Idee 1 weiter machen und erstellen damit einen neuen Prompt\n",
    "idee_prompt_1 = '- **Verpackung aus recycelten Materialien**: Nutzen Sie als Alleinstellungsmerkmal eine Verpackung, die zu 100% aus recycelten Materialien hergestellt ist. Dies unterstreicht die Nachhaltigkeit Ihres Produkts und spricht umweltbewusste Verbraucher an.'\n",
    "prompt_2 = {\"role\": \"user\", \n",
    "            \"content\": f\"\"\"Für welche Zielgruppe könnte die folgende Kampagne besonders gut geeignet sein?\n",
    "Kampagne: {idee_prompt_1}\n",
    "Zielgruppe:\"\"\"}"
   ]
  },
  {
   "cell_type": "markdown",
   "metadata": {},
   "source": [
    "Wir bauen uns die Liste der \"messages\" zusammen, die wir an die OpenAI API senden."
   ]
  },
  {
   "cell_type": "code",
   "execution_count": null,
   "metadata": {},
   "outputs": [],
   "source": [
    "[system_prompt, prompt_1, response_prompt_1, prompt_2]"
   ]
  },
  {
   "cell_type": "code",
   "execution_count": null,
   "metadata": {},
   "outputs": [],
   "source": [
    "# OpenAI API für den zweiten Prompt aufrufen\n",
    "response_2 = generate_response([system_prompt, prompt_1, response_prompt_1, prompt_2])\n",
    "print(response_2)"
   ]
  },
  {
   "cell_type": "markdown",
   "metadata": {},
   "source": [
    "**Zielgruppe aus Prompt 2**:  \n",
    "Die oben genannte Kampagne mit einer Verpackung aus recycelten Materialien wäre besonders gut geeignet für umweltbewusste Verbraucher und nachhaltigkeitsorientierte Konsumenten. Diese Zielgruppe legt Wert auf umweltfreundliche Produkte und ist bereit, für Produkte zu bezahlen, die ihren Werten entsprechen. Sie sind oft gut informiert über Umweltthemen und achten darauf, wie ihre Kaufentscheidungen die Umwelt beeinflussen. Die Kampagne spricht auch Menschen an, die sich aktiv für den Umweltschutz engagieren und ihre täglichen Gewohnheiten anpassen, um nachhaltiger zu leben."
   ]
  },
  {
   "cell_type": "markdown",
   "metadata": {},
   "source": [
    "### Schritt 3: Marketingbotschaft"
   ]
  },
  {
   "cell_type": "code",
   "execution_count": null,
   "metadata": {},
   "outputs": [],
   "source": [
    "response_prompt_2 = {\"role\": \"assistant\", \"content\": response_2}"
   ]
  },
  {
   "cell_type": "code",
   "execution_count": null,
   "metadata": {},
   "outputs": [],
   "source": [
    "prompt_3 = {\"role\": \"user\", \n",
    "            \"content\": f\"\"\"Entwickle eine überzeugende Werbebotschaft, die speziell auf die folgende Zielgruppe zugeschnitten ist und die Kampagnenidee hervorhebt.\n",
    "Kampagnenidee: {idee_prompt_1}\n",
    "Zielgruppe: {response_2}\n",
    "Werbebotschaft:\"\"\"}"
   ]
  },
  {
   "cell_type": "code",
   "execution_count": null,
   "metadata": {},
   "outputs": [],
   "source": [
    "[system_prompt, prompt_1, response_prompt_1, prompt_2, response_prompt_2, prompt_3]"
   ]
  },
  {
   "cell_type": "code",
   "execution_count": null,
   "metadata": {},
   "outputs": [],
   "source": [
    "response_3 = generate_response([system_prompt, prompt_1, response_prompt_1, prompt_2, response_prompt_2, prompt_3])\n",
    "print(response_3)"
   ]
  },
  {
   "cell_type": "markdown",
   "metadata": {},
   "source": [
    "**\"Machen Sie den Unterschied** - für die Umwelt und für Ihr Zuhause! Unser neues nachhaltiges Waschmittel überzeugt nicht nur mit seiner wirksamen Reinigungskraft, sondern auch mit seiner umweltfreundlichen Verpackung aus 100% recycelten Materialien. Für umweltbewusste Verbraucher wie Sie, die nicht nur saubere Wäsche, sondern auch eine saubere Zukunft wollen. Gemeinsam können wir ein Zeichen setzen und den nachhaltigen Wandel in Ihrem Haushalt beginnen. Entscheiden Sie sich für verantwortungsvolles Handeln - mit jedem Waschgang.\""
   ]
  },
  {
   "cell_type": "markdown",
   "metadata": {},
   "source": [
    "## Mega-Prompt\n",
    "\n",
    "Versuche ein ähnliches Ergebnis mit einem \"Mega-Prompt\" zu erhalten. Schreibe also alle nötigen Anweisungen in einen Promt (bzw. zwei - System und einen User Prompt) und sende ihn an die OpenAI API!"
   ]
  },
  {
   "cell_type": "code",
   "execution_count": null,
   "metadata": {},
   "outputs": [],
   "source": [
    "system_prompt = {\"role\": \"system\",\n",
    "                 \"content\": \"\"\"<füge hier deinen System Prompt ein>\"\"\"}\n",
    "user_prompt = {\"role\": \"user\",\n",
    "                \"content\": \"\"\"<füge hier deinen User Prompt ein>\"\"\"}"
   ]
  },
  {
   "cell_type": "code",
   "execution_count": null,
   "metadata": {},
   "outputs": [],
   "source": [
    "response_megaprompt = generate_response([system_prompt, user_prompt])"
   ]
  },
  {
   "cell_type": "code",
   "execution_count": null,
   "metadata": {},
   "outputs": [],
   "source": []
  }
 ],
 "metadata": {
  "kernelspec": {
   "display_name": "d4t",
   "language": "python",
   "name": "python3"
  },
  "language_info": {
   "codemirror_mode": {
    "name": "ipython",
    "version": 3
   },
   "file_extension": ".py",
   "mimetype": "text/x-python",
   "name": "python",
   "nbconvert_exporter": "python",
   "pygments_lexer": "ipython3",
   "version": "3.10.9"
  }
 },
 "nbformat": 4,
 "nbformat_minor": 2
}
