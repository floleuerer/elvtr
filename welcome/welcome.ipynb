{
 "cells": [
  {
   "cell_type": "markdown",
   "metadata": {},
   "source": [
    "# Bald gehts los!\n",
    "\n",
    "Hey! Bald gehts los mit dem Elvtr-Kurs \"KI Prompte Engineering\". Wir werden viele der praktischen Übungen in Google Colab machen - dazu brauchst du nur einen kostenlosen \"Google\" Account. Damit kannst du dich hier in Colab anmelden und hast dann eine komplette Python umgebung zur Verfügung.\n",
    "\n",
    "Um zu checken ob alles richtig funktioniert, klicke auf den \"Play\" Button vor den Code-Zellen unter diesem Text. Wenn unter der zweiten Zelle \"5\" erscheit klappt alles.\n",
    "\n",
    "![image.png](colab_add.png)"
   ]
  },
  {
   "cell_type": "code",
   "execution_count": null,
   "metadata": {},
   "outputs": [],
   "source": [
    "n = 2+3"
   ]
  },
  {
   "cell_type": "code",
   "execution_count": null,
   "metadata": {},
   "outputs": [],
   "source": [
    "print(n)"
   ]
  },
  {
   "cell_type": "code",
   "execution_count": null,
   "metadata": {},
   "outputs": [],
   "source": []
  }
 ],
 "metadata": {
  "kernelspec": {
   "display_name": "agi",
   "language": "python",
   "name": "python3"
  },
  "language_info": {
   "codemirror_mode": {
    "name": "ipython",
    "version": 3
   },
   "file_extension": ".py",
   "mimetype": "text/x-python",
   "name": "python",
   "nbconvert_exporter": "python",
   "pygments_lexer": "ipython3",
   "version": "3.10.9"
  }
 },
 "nbformat": 4,
 "nbformat_minor": 2
}
